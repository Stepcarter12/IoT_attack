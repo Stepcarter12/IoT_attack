{
 "cells": [
  {
   "cell_type": "markdown",
   "id": "88dccc19",
   "metadata": {},
   "source": [
    "# Anomaly Detection in IoT Attacks\n",
    "\n",
    "## Dataset Overview\n",
    "- **Dataset**: The dataset used here is a combination of IoT network logs (not UNSW_2018_IoT as mentioned earlier, which is incorrect). It contains network traffic data with features like IP addresses, protocols, and SCADA tags.\n",
    "- **Training Data**: Concatenated from two files (`2015-12-28_113021_98.log.part12_sorted.csv` and `2015-12-31_233049_114.log.part11_sorted.csv`).\n",
    "- **Test Data**: From `2015-12-28_164554_99.log.part01_sorted.csv`.\n",
    "- **Goal**: Classify data into 2 classes (normal: 0, anomaly: 1) using an Artificial Neural Network (ANN).\n",
    "\n",
    "## Steps\n",
    "1. Data Preprocessing: Handle IPs, categorical features, and scaling.\n",
    "2. Dimensionality Reduction: Apply SMOTE and PCA.\n",
    "3. Model Training: Build and train an ANN.\n",
    "4. Evaluation: Assess model performance."
   ]
  },
  {
   "cell_type": "code",
   "execution_count": 1,
   "id": "b3a28666",
   "metadata": {},
   "outputs": [],
   "source": [
    "import tensorflow as tf\n",
    "\n",
    "from tensorflow import keras\n",
    "from tensorflow.keras import layers\n",
    "from tensorflow.keras.layers import Dropout, BatchNormalization\n",
    "from imblearn.over_sampling import SMOTE\n",
    "import matplotlib.pyplot as plt\n",
    "import pandas as pd\n",
    "import numpy as np\n",
    "import random\n",
    "from sklearn.metrics import classification_report"
   ]
  },
  {
   "cell_type": "code",
   "execution_count": 2,
   "id": "e498324e",
   "metadata": {},
   "outputs": [
    {
     "data": {
      "text/html": [
       "<div>\n",
       "<style scoped>\n",
       "    .dataframe tbody tr th:only-of-type {\n",
       "        vertical-align: middle;\n",
       "    }\n",
       "\n",
       "    .dataframe tbody tr th {\n",
       "        vertical-align: top;\n",
       "    }\n",
       "\n",
       "    .dataframe thead th {\n",
       "        text-align: right;\n",
       "    }\n",
       "</style>\n",
       "<table border=\"1\" class=\"dataframe\">\n",
       "  <thead>\n",
       "    <tr style=\"text-align: right;\">\n",
       "      <th></th>\n",
       "      <th>num</th>\n",
       "      <th>date</th>\n",
       "      <th>time</th>\n",
       "      <th>orig</th>\n",
       "      <th>type</th>\n",
       "      <th>i/f_name</th>\n",
       "      <th>i/f_dir</th>\n",
       "      <th>src</th>\n",
       "      <th>dst</th>\n",
       "      <th>proto</th>\n",
       "      <th>appi_name</th>\n",
       "      <th>proxy_src_ip</th>\n",
       "      <th>Modbus_Function_Code</th>\n",
       "      <th>Modbus_Function_Description</th>\n",
       "      <th>Modbus_Transaction_ID</th>\n",
       "      <th>SCADA_Tag</th>\n",
       "      <th>Modbus_Value</th>\n",
       "      <th>service</th>\n",
       "      <th>s_port</th>\n",
       "      <th>Tag</th>\n",
       "    </tr>\n",
       "  </thead>\n",
       "  <tbody>\n",
       "    <tr>\n",
       "      <th>0</th>\n",
       "      <td>5500001</td>\n",
       "      <td>28-Dec-15</td>\n",
       "      <td>10:16:36</td>\n",
       "      <td>192.168.1.48</td>\n",
       "      <td>log</td>\n",
       "      <td>eth1</td>\n",
       "      <td>outbound</td>\n",
       "      <td>192.168.1.60</td>\n",
       "      <td>192.168.1.20</td>\n",
       "      <td>tcp</td>\n",
       "      <td>CIP_read_tag_service</td>\n",
       "      <td>192.168.1.60</td>\n",
       "      <td>76.0</td>\n",
       "      <td>Read Tag Service - Response</td>\n",
       "      <td>6884.0</td>\n",
       "      <td>HMI_AIT202</td>\n",
       "      <td>0xae 0x70 0x07 0x41; 0x00 0x00 0x00 0x00; 0x00...</td>\n",
       "      <td>44818.0</td>\n",
       "      <td>53250.0</td>\n",
       "      <td>0</td>\n",
       "    </tr>\n",
       "    <tr>\n",
       "      <th>1</th>\n",
       "      <td>5500002</td>\n",
       "      <td>28-Dec-15</td>\n",
       "      <td>10:16:36</td>\n",
       "      <td>192.168.1.48</td>\n",
       "      <td>log</td>\n",
       "      <td>eth1</td>\n",
       "      <td>outbound</td>\n",
       "      <td>192.168.1.10</td>\n",
       "      <td>192.168.1.20</td>\n",
       "      <td>tcp</td>\n",
       "      <td>CIP_read_tag_service</td>\n",
       "      <td>192.168.1.10</td>\n",
       "      <td>76.0</td>\n",
       "      <td>Read Tag Service - Response</td>\n",
       "      <td>3257.0</td>\n",
       "      <td>HMI_FIT201</td>\n",
       "      <td>0x00 0x00 0x00 0x00; 0x00 0x00 0x00 0x00; 0x00...</td>\n",
       "      <td>44818.0</td>\n",
       "      <td>54592.0</td>\n",
       "      <td>0</td>\n",
       "    </tr>\n",
       "    <tr>\n",
       "      <th>2</th>\n",
       "      <td>5500003</td>\n",
       "      <td>28-Dec-15</td>\n",
       "      <td>10:16:36</td>\n",
       "      <td>192.168.1.48</td>\n",
       "      <td>log</td>\n",
       "      <td>eth1</td>\n",
       "      <td>outbound</td>\n",
       "      <td>192.168.1.30</td>\n",
       "      <td>192.168.1.40</td>\n",
       "      <td>tcp</td>\n",
       "      <td>CIP_read_tag_service</td>\n",
       "      <td>192.168.1.30</td>\n",
       "      <td>76.0</td>\n",
       "      <td>Read Tag Service</td>\n",
       "      <td>49808.0</td>\n",
       "      <td>HMI_LIT401</td>\n",
       "      <td>Number of Elements: 1</td>\n",
       "      <td>44818.0</td>\n",
       "      <td>52544.0</td>\n",
       "      <td>0</td>\n",
       "    </tr>\n",
       "    <tr>\n",
       "      <th>3</th>\n",
       "      <td>5500004</td>\n",
       "      <td>28-Dec-15</td>\n",
       "      <td>10:16:36</td>\n",
       "      <td>192.168.1.48</td>\n",
       "      <td>log</td>\n",
       "      <td>eth1</td>\n",
       "      <td>outbound</td>\n",
       "      <td>192.168.1.20</td>\n",
       "      <td>192.168.1.30</td>\n",
       "      <td>tcp</td>\n",
       "      <td>CIP_read_tag_service</td>\n",
       "      <td>192.168.1.20</td>\n",
       "      <td>76.0</td>\n",
       "      <td>Read Tag Service</td>\n",
       "      <td>47461.0</td>\n",
       "      <td>HMI_LIT301</td>\n",
       "      <td>Number of Elements: 1</td>\n",
       "      <td>44818.0</td>\n",
       "      <td>53326.0</td>\n",
       "      <td>0</td>\n",
       "    </tr>\n",
       "    <tr>\n",
       "      <th>4</th>\n",
       "      <td>5500005</td>\n",
       "      <td>28-Dec-15</td>\n",
       "      <td>10:16:36</td>\n",
       "      <td>192.168.1.48</td>\n",
       "      <td>log</td>\n",
       "      <td>eth1</td>\n",
       "      <td>outbound</td>\n",
       "      <td>192.168.1.60</td>\n",
       "      <td>192.168.1.10</td>\n",
       "      <td>tcp</td>\n",
       "      <td>CIP_read_tag_service</td>\n",
       "      <td>192.168.1.60</td>\n",
       "      <td>76.0</td>\n",
       "      <td>Read Tag Service</td>\n",
       "      <td>6490.0</td>\n",
       "      <td>HMI_LIT101</td>\n",
       "      <td>Number of Elements: 1</td>\n",
       "      <td>44818.0</td>\n",
       "      <td>53260.0</td>\n",
       "      <td>0</td>\n",
       "    </tr>\n",
       "  </tbody>\n",
       "</table>\n",
       "</div>"
      ],
      "text/plain": [
       "       num       date      time          orig type i/f_name   i/f_dir  \\\n",
       "0  5500001  28-Dec-15  10:16:36  192.168.1.48  log     eth1  outbound   \n",
       "1  5500002  28-Dec-15  10:16:36  192.168.1.48  log     eth1  outbound   \n",
       "2  5500003  28-Dec-15  10:16:36  192.168.1.48  log     eth1  outbound   \n",
       "3  5500004  28-Dec-15  10:16:36  192.168.1.48  log     eth1  outbound   \n",
       "4  5500005  28-Dec-15  10:16:36  192.168.1.48  log     eth1  outbound   \n",
       "\n",
       "            src           dst proto             appi_name  proxy_src_ip  \\\n",
       "0  192.168.1.60  192.168.1.20   tcp  CIP_read_tag_service  192.168.1.60   \n",
       "1  192.168.1.10  192.168.1.20   tcp  CIP_read_tag_service  192.168.1.10   \n",
       "2  192.168.1.30  192.168.1.40   tcp  CIP_read_tag_service  192.168.1.30   \n",
       "3  192.168.1.20  192.168.1.30   tcp  CIP_read_tag_service  192.168.1.20   \n",
       "4  192.168.1.60  192.168.1.10   tcp  CIP_read_tag_service  192.168.1.60   \n",
       "\n",
       "   Modbus_Function_Code  Modbus_Function_Description  Modbus_Transaction_ID  \\\n",
       "0                  76.0  Read Tag Service - Response                 6884.0   \n",
       "1                  76.0  Read Tag Service - Response                 3257.0   \n",
       "2                  76.0             Read Tag Service                49808.0   \n",
       "3                  76.0             Read Tag Service                47461.0   \n",
       "4                  76.0             Read Tag Service                 6490.0   \n",
       "\n",
       "    SCADA_Tag                                       Modbus_Value  service  \\\n",
       "0  HMI_AIT202  0xae 0x70 0x07 0x41; 0x00 0x00 0x00 0x00; 0x00...  44818.0   \n",
       "1  HMI_FIT201  0x00 0x00 0x00 0x00; 0x00 0x00 0x00 0x00; 0x00...  44818.0   \n",
       "2  HMI_LIT401                              Number of Elements: 1  44818.0   \n",
       "3  HMI_LIT301                              Number of Elements: 1  44818.0   \n",
       "4  HMI_LIT101                              Number of Elements: 1  44818.0   \n",
       "\n",
       "    s_port  Tag  \n",
       "0  53250.0    0  \n",
       "1  54592.0    0  \n",
       "2  52544.0    0  \n",
       "3  53326.0    0  \n",
       "4  53260.0    0  "
      ]
     },
     "execution_count": 2,
     "metadata": {},
     "output_type": "execute_result"
    }
   ],
   "source": [
    "data1 = pd.read_csv(\"2015-12-28_113021_98.log.part12_sorted.csv\")\n",
    "data2 = pd.read_csv(\"2015-12-31_233049_114.log.part11_sorted.csv\")\n",
    "data3 = pd.read_csv(\"2015-12-28_164554_99.log.part01_sorted.csv\")\n",
    "# Gộp theo hàng (axis=0)\n",
    "data = pd.concat([data1, data2, data3], axis=0, ignore_index=True)\n",
    "\n",
    "data.head()"
   ]
  },
  {
   "cell_type": "code",
   "execution_count": 3,
   "id": "e9eb674b",
   "metadata": {},
   "outputs": [
    {
     "data": {
      "text/plain": [
       "Tag\n",
       "0    1004042\n",
       "1     495958\n",
       "Name: count, dtype: int64"
      ]
     },
     "execution_count": 3,
     "metadata": {},
     "output_type": "execute_result"
    }
   ],
   "source": [
    "data['Tag'].value_counts()"
   ]
  },
  {
   "cell_type": "markdown",
   "id": "d82370cf",
   "metadata": {},
   "source": [
    "## 2. Xử lý dữ liệu"
   ]
  },
  {
   "cell_type": "code",
   "execution_count": 4,
   "id": "b9fb2995",
   "metadata": {},
   "outputs": [],
   "source": [
    "# khai báo thư viện\n",
    "from sklearn.preprocessing import StandardScaler\n",
    "from sklearn.preprocessing import LabelEncoder\n",
    "import socket\n",
    "import struct"
   ]
  },
  {
   "cell_type": "markdown",
   "id": "15a3532e",
   "metadata": {},
   "source": [
    "### 1. Xử lý NaN"
   ]
  },
  {
   "cell_type": "code",
   "execution_count": 5,
   "id": "bede0fb8",
   "metadata": {},
   "outputs": [],
   "source": [
    "X = data.drop(columns=['Tag'])  # bỏ cột nhãn\n",
    "# bỏ các nhãn không cần thiết\n",
    "columns_to_drop = ['num', 'date', 'time', 'Modbus_Value']\n",
    "X = data.drop(columns=columns_to_drop)\n",
    "X = X.dropna()                     # xóa tất cả hàng có NaN"
   ]
  },
  {
   "cell_type": "markdown",
   "id": "88921463",
   "metadata": {},
   "source": [
    "### 2. Xử lý các số liệu là địa chỉ ip"
   ]
  },
  {
   "cell_type": "code",
   "execution_count": 6,
   "id": "cfe961a9",
   "metadata": {},
   "outputs": [],
   "source": [
    "# Định nghĩa hàm chuyển IP -> số nguyên\n",
    "def ip_to_int(ip):\n",
    "    try:\n",
    "        return struct.unpack(\"!I\", socket.inet_aton(str(ip)))[0]\n",
    "    except:\n",
    "        return np.nan  # Trả về NaN để dễ xử lý\n",
    "\n",
    "data['src'] = data['src'].apply(ip_to_int)\n",
    "data['orig'] = data['orig'].apply(ip_to_int)\n",
    "data['dst'] = data['dst'].apply(ip_to_int)\n",
    "data['proxy_src_ip'] = data['proxy_src_ip'].apply(ip_to_int)"
   ]
  },
  {
   "cell_type": "markdown",
   "id": "fe9de270",
   "metadata": {},
   "source": [
    "### 3. Xử lý các số liệu là string "
   ]
  },
  {
   "cell_type": "code",
   "execution_count": 7,
   "id": "7277301f",
   "metadata": {},
   "outputs": [],
   "source": [
    "le = LabelEncoder()\n",
    "categorical_columns = ['appi_name', 'type', 'i/f_name', 'i/f_dir', 'proto', \n",
    "                      'SCADA_Tag', 'Modbus_Function_Description']\n",
    "for col in categorical_columns:\n",
    "    data[col] = le.fit_transform(data[col])"
   ]
  },
  {
   "cell_type": "markdown",
   "id": "4f3bfd8c",
   "metadata": {},
   "source": [
    "### 4. chuẩn hóa dữ liệu"
   ]
  },
  {
   "cell_type": "code",
   "execution_count": 8,
   "id": "2c59d70e",
   "metadata": {},
   "outputs": [],
   "source": [
    "#  Lấy lại X từ data sau khi mã hóa, đảm bảo bao gồm các cột đã mã hóa\n",
    "X = data.drop(columns=columns_to_drop)\n",
    "# Xóa các hàng có NaN và đồng bộ với y\n",
    "X = X.dropna()\n",
    "# Lấy chỉ số của các hàng còn lại sau khi xóa NaN\n",
    "valid_indices = X.index\n",
    "# Đồng bộ y với các hàng còn lại\n",
    "y = data.loc[valid_indices, 'Tag']"
   ]
  },
  {
   "cell_type": "code",
   "execution_count": 9,
   "id": "0b7a0be5",
   "metadata": {},
   "outputs": [],
   "source": [
    "#  Lọc ra chỉ dữ liệu số (đề phòng có string)\n",
    "X = X.select_dtypes(include=[np.number])\n",
    "\n",
    "#  Scale dữ liệu\n",
    "scaler = StandardScaler()\n",
    "X_scaled = scaler.fit_transform(X)"
   ]
  },
  {
   "cell_type": "code",
   "execution_count": 10,
   "id": "ce1904a0",
   "metadata": {},
   "outputs": [
    {
     "name": "stdout",
     "output_type": "stream",
     "text": [
      "orig                             int64\n",
      "type                             int64\n",
      "i/f_name                         int64\n",
      "i/f_dir                          int64\n",
      "src                            float64\n",
      "dst                            float64\n",
      "proto                            int64\n",
      "appi_name                        int64\n",
      "proxy_src_ip                   float64\n",
      "Modbus_Function_Code           float64\n",
      "Modbus_Function_Description      int64\n",
      "Modbus_Transaction_ID          float64\n",
      "SCADA_Tag                        int64\n",
      "service                        float64\n",
      "s_port                         float64\n",
      "Tag                              int64\n",
      "dtype: object\n"
     ]
    }
   ],
   "source": [
    "print(X.dtypes)"
   ]
  },
  {
   "cell_type": "code",
   "execution_count": 11,
   "id": "86ef53be",
   "metadata": {},
   "outputs": [
    {
     "data": {
      "text/plain": [
       "Tag\n",
       "0    1004042\n",
       "1     495958\n",
       "Name: count, dtype: int64"
      ]
     },
     "execution_count": 11,
     "metadata": {},
     "output_type": "execute_result"
    }
   ],
   "source": [
    "data['Tag'].value_counts()"
   ]
  },
  {
   "cell_type": "markdown",
   "id": "bf35a30d",
   "metadata": {},
   "source": [
    "## 3. Train mô hình AI bằng phương pháp ANN"
   ]
  },
  {
   "cell_type": "markdown",
   "id": "0a52b8ff",
   "metadata": {},
   "source": [
    "### 1. Cân bằng và giảm chiều dữ liệu"
   ]
  },
  {
   "cell_type": "code",
   "execution_count": 12,
   "id": "dee3c018",
   "metadata": {},
   "outputs": [
    {
     "data": {
      "image/png": "[encoded data removed]",
      "text/plain": [
       "<Figure size 800x500 with 1 Axes>"
      ]
     },
     "metadata": {},
     "output_type": "display_data"
    }
   ],
   "source": [
    "from sklearn.decomposition import PCA\n",
    "import matplotlib.pyplot as plt\n",
    "import numpy as np\n",
    "\n",
    "# Áp dụng SMOTE trên X_scaled (trước PCA)\n",
    "smote = SMOTE(random_state=42)\n",
    "X_scaled_smote, y_smote = smote.fit_resample(X_scaled, y)\n",
    "\n",
    "# 1. Khởi tạo PCA\n",
    "pca = PCA()\n",
    "\n",
    "# 2. Fit PCA\n",
    "pca.fit(X_scaled_smote)\n",
    "\n",
    "# 3. Phân tích tỉ lệ phương sai (Variance ratio)\n",
    "explained_variance = pca.explained_variance_ratio_\n",
    "\n",
    "# 4. Vẽ biểu đồ để xem nên chọn bao nhiêu thành phần\n",
    "plt.figure(figsize=(8,5))\n",
    "plt.plot(np.cumsum(explained_variance))\n",
    "plt.xlabel('Số lượng thành phần chính (Principal Components)')\n",
    "plt.ylabel('Tỉ lệ phương sai tích lũy')\n",
    "plt.title('Biểu đồ tích lũy Variance theo số thành phần')\n",
    "plt.grid(True)\n",
    "plt.show()\n"
   ]
  },
  {
   "cell_type": "code",
   "execution_count": 13,
   "id": "c5209075",
   "metadata": {},
   "outputs": [],
   "source": [
    "# theo bảng ta chọn số thành phần\n",
    "pca = PCA(n_components=4)\n",
    "X_pca_smote = pca.fit_transform(X_scaled_smote)\n"
   ]
  },
  {
   "cell_type": "code",
   "execution_count": 14,
   "id": "ba3077f8",
   "metadata": {},
   "outputs": [
    {
     "name": "stdout",
     "output_type": "stream",
     "text": [
      "orig                          -0.000000e+00\n",
      "type                           5.773084e-01\n",
      "i/f_name                      -0.000000e+00\n",
      "i/f_dir                        3.469447e-18\n",
      "src                            6.240936e-03\n",
      "dst                           -4.241777e-03\n",
      "proto                         -1.084202e-19\n",
      "appi_name                      5.773084e-01\n",
      "proxy_src_ip                   6.240936e-03\n",
      "Modbus_Function_Code          -5.773084e-01\n",
      "Modbus_Function_Description    3.906542e-03\n",
      "Modbus_Transaction_ID          6.169623e-04\n",
      "SCADA_Tag                     -5.730659e-03\n",
      "service                       -0.000000e+00\n",
      "s_port                        -7.709635e-04\n",
      "Tag                           -1.456551e-04\n",
      "Name: 0, dtype: float64\n"
     ]
    }
   ],
   "source": [
    "import pandas as pd\n",
    "\n",
    "# Tạo bảng feature importance\n",
    "components = pd.DataFrame(pca.components_, columns=X.columns)\n",
    "\n",
    "# Xem thành phần đầu tiên\n",
    "print(components.iloc[0])\n"
   ]
  },
  {
   "cell_type": "markdown",
   "id": "7ba84c99",
   "metadata": {},
   "source": [
    "### 2. Xây dựng mô hình ANN"
   ]
  },
  {
   "cell_type": "code",
   "execution_count": 15,
   "id": "2f332953",
   "metadata": {},
   "outputs": [
    {
     "name": "stderr",
     "output_type": "stream",
     "text": [
      "c:\\Users\\mayti\\AppData\\Local\\Programs\\Python\\Python311\\Lib\\site-packages\\keras\\src\\layers\\core\\dense.py:87: UserWarning: Do not pass an `input_shape`/`input_dim` argument to a layer. When using Sequential models, prefer using an `Input(shape)` object as the first layer in the model instead.\n",
      "  super().__init__(activity_regularizer=activity_regularizer, **kwargs)\n"
     ]
    }
   ],
   "source": [
    "from sklearn.model_selection import train_test_split\n",
    "from keras.models import Sequential\n",
    "from keras.layers import Dense\n",
    "\n",
    "X_train, X_test, y_train, y_test = train_test_split(X_pca_smote, y_smote, test_size=0.1, random_state=42)\n",
    "\n",
    "# Tạo mô hình ANN\n",
    "model = Sequential()\n",
    "\n",
    "# Thêm lớp đầu vào (input layer) và lớp ẩn (hidden layer)\n",
    "model.add(Dense(64, input_dim=X_train.shape[1], activation='relu'))  # 64 nút, kích thước đầu vào là số thành phần chính sau PCA\n",
    "model.add(Dense(32, activation='relu'))  # Lớp ẩn thứ 2\n",
    "model.add(BatchNormalization())\n",
    "model.add(Dropout(0.3))\n",
    "\n",
    "# Thêm lớp đầu ra (output layer)\n",
    "model.add(Dense(1, activation='sigmoid'))  # sigmoid nếu là phân loại nhị phân (binary classification)\n",
    "\n",
    "# Biên dịch mô hình\n",
    "model.compile(optimizer='adam', loss='binary_crossentropy', metrics=['accuracy'])\n"
   ]
  },
  {
   "cell_type": "markdown",
   "id": "fb7b21ce",
   "metadata": {},
   "source": [
    "### 3. Train mô hình ANN"
   ]
  },
  {
   "cell_type": "code",
   "execution_count": 16,
   "id": "60e802d9",
   "metadata": {},
   "outputs": [
    {
     "name": "stdout",
     "output_type": "stream",
     "text": [
      "Epoch 1/10\n",
      "\u001b[1m14119/14119\u001b[0m \u001b[32m━━━━━━━━━━━━━━━━━━━━\u001b[0m\u001b[37m\u001b[0m \u001b[1m37s\u001b[0m 3ms/step - accuracy: 0.9968 - loss: 0.0094 - val_accuracy: 1.0000 - val_loss: 1.7624e-09\n",
      "Epoch 2/10\n",
      "\u001b[1m14119/14119\u001b[0m \u001b[32m━━━━━━━━━━━━━━━━━━━━\u001b[0m\u001b[37m\u001b[0m \u001b[1m37s\u001b[0m 3ms/step - accuracy: 1.0000 - loss: 4.4788e-05 - val_accuracy: 1.0000 - val_loss: 3.1665e-12\n",
      "Epoch 3/10\n",
      "\u001b[1m14119/14119\u001b[0m \u001b[32m━━━━━━━━━━━━━━━━━━━━\u001b[0m\u001b[37m\u001b[0m \u001b[1m44s\u001b[0m 3ms/step - accuracy: 1.0000 - loss: 5.1307e-05 - val_accuracy: 1.0000 - val_loss: 1.4993e-12\n",
      "Epoch 4/10\n",
      "\u001b[1m14119/14119\u001b[0m \u001b[32m━━━━━━━━━━━━━━━━━━━━\u001b[0m\u001b[37m\u001b[0m \u001b[1m33s\u001b[0m 2ms/step - accuracy: 1.0000 - loss: 1.3267e-04 - val_accuracy: 1.0000 - val_loss: 1.7973e-13\n",
      "Epoch 5/10\n",
      "\u001b[1m14119/14119\u001b[0m \u001b[32m━━━━━━━━━━━━━━━━━━━━\u001b[0m\u001b[37m\u001b[0m \u001b[1m31s\u001b[0m 2ms/step - accuracy: 1.0000 - loss: 4.9002e-05 - val_accuracy: 1.0000 - val_loss: 4.5383e-14\n",
      "Epoch 6/10\n",
      "\u001b[1m14119/14119\u001b[0m \u001b[32m━━━━━━━━━━━━━━━━━━━━\u001b[0m\u001b[37m\u001b[0m \u001b[1m87s\u001b[0m 6ms/step - accuracy: 1.0000 - loss: 5.2108e-06 - val_accuracy: 1.0000 - val_loss: 2.0550e-14\n",
      "Epoch 7/10\n",
      "\u001b[1m14119/14119\u001b[0m \u001b[32m━━━━━━━━━━━━━━━━━━━━\u001b[0m\u001b[37m\u001b[0m \u001b[1m77s\u001b[0m 5ms/step - accuracy: 1.0000 - loss: 1.4618e-04 - val_accuracy: 1.0000 - val_loss: 2.1218e-14\n",
      "Epoch 8/10\n",
      "\u001b[1m14119/14119\u001b[0m \u001b[32m━━━━━━━━━━━━━━━━━━━━\u001b[0m\u001b[37m\u001b[0m \u001b[1m55s\u001b[0m 4ms/step - accuracy: 1.0000 - loss: 2.3243e-05 - val_accuracy: 1.0000 - val_loss: 2.1860e-13\n",
      "Epoch 9/10\n",
      "\u001b[1m14119/14119\u001b[0m \u001b[32m━━━━━━━━━━━━━━━━━━━━\u001b[0m\u001b[37m\u001b[0m \u001b[1m41s\u001b[0m 3ms/step - accuracy: 1.0000 - loss: 3.8449e-05 - val_accuracy: 1.0000 - val_loss: 9.0845e-14\n",
      "Epoch 10/10\n",
      "\u001b[1m14119/14119\u001b[0m \u001b[32m━━━━━━━━━━━━━━━━━━━━\u001b[0m\u001b[37m\u001b[0m \u001b[1m48s\u001b[0m 3ms/step - accuracy: 1.0000 - loss: 4.6050e-05 - val_accuracy: 1.0000 - val_loss: 2.8589e-14\n",
      "\u001b[1m6275/6275\u001b[0m \u001b[32m━━━━━━━━━━━━━━━━━━━━\u001b[0m\u001b[37m\u001b[0m \u001b[1m7s\u001b[0m 1ms/step\n"
     ]
    }
   ],
   "source": [
    "# Huấn luyện mô hình\n",
    "history = model.fit(X_train, y_train, epochs=10, batch_size=128, validation_data=(X_test, y_test))\n",
    "y_pred_prob = model.predict(X_test)           # Dự đoán xác suất\n",
    "y_pred = (y_pred_prob > 0.5).astype(int)      # Chuyển thành nhãn nhị phân\n"
   ]
  },
  {
   "cell_type": "markdown",
   "id": "4612a8a0",
   "metadata": {},
   "source": [
    "## 4. Vẽ biểu đồ và đánh giá mô hình"
   ]
  },
  {
   "cell_type": "code",
   "execution_count": 17,
   "id": "3fe320ee",
   "metadata": {},
   "outputs": [
    {
     "data": {
      "image/png": "[encoded data removed]",
      "text/plain": [
       "<Figure size 1200x400 with 2 Axes>"
      ]
     },
     "metadata": {},
     "output_type": "display_data"
    }
   ],
   "source": [
    "import matplotlib.pyplot as plt\n",
    "\n",
    "# Vẽ biểu đồ loss\n",
    "plt.figure(figsize=(12, 4))\n",
    "\n",
    "plt.subplot(1, 2, 1)\n",
    "plt.plot(history.history['loss'], label='Train Loss')\n",
    "plt.plot(history.history['val_loss'], label='Validation Loss')\n",
    "plt.title('Loss qua các epoch')\n",
    "plt.xlabel('Epoch')\n",
    "plt.ylabel('Loss')\n",
    "plt.legend()\n",
    "plt.grid(True)\n",
    "\n",
    "# Vẽ biểu đồ accuracy\n",
    "plt.subplot(1, 2, 2)\n",
    "plt.plot(history.history['accuracy'], label='Train Accuracy')\n",
    "plt.plot(history.history['val_accuracy'], label='Validation Accuracy')\n",
    "plt.title('Accuracy qua các epoch')\n",
    "plt.xlabel('Epoch')\n",
    "plt.ylabel('Accuracy')\n",
    "plt.legend()\n",
    "plt.grid(True)\n",
    "\n",
    "plt.tight_layout()\n",
    "plt.show()"
   ]
  },
  {
   "cell_type": "code",
   "execution_count": 18,
   "id": "acba3a2a",
   "metadata": {},
   "outputs": [
    {
     "name": "stdout",
     "output_type": "stream",
     "text": [
      "\u001b[1m6275/6275\u001b[0m \u001b[32m━━━━━━━━━━━━━━━━━━━━\u001b[0m\u001b[37m\u001b[0m \u001b[1m11s\u001b[0m 2ms/step - accuracy: 1.0000 - loss: 2.8652e-14\n",
      "Loss: 2.858869689375751e-14, Accuracy: 1.0\n",
      "              precision    recall  f1-score   support\n",
      "\n",
      "           0       1.00      1.00      1.00    100723\n",
      "           1       1.00      1.00      1.00    100077\n",
      "\n",
      "    accuracy                           1.00    200800\n",
      "   macro avg       1.00      1.00      1.00    200800\n",
      "weighted avg       1.00      1.00      1.00    200800\n",
      "\n"
     ]
    }
   ],
   "source": [
    "loss, accuracy = model.evaluate(X_test, y_test)\n",
    "print(f\"Loss: {loss}, Accuracy: {accuracy}\")\n",
    "print(classification_report(y_test,y_pred))"
   ]
  }
 ],
 "metadata": {
  "kernelspec": {
   "display_name": "Python 3",
   "language": "python",
   "name": "python3"
  },
  "language_info": {
   "codemirror_mode": {
    "name": "ipython",
    "version": 3
   },
   "file_extension": ".py",
   "mimetype": "text/x-python",
   "name": "python",
   "nbconvert_exporter": "python",
   "pygments_lexer": "ipython3",
   "version": "3.11.9"
  }
 },
 "nbformat": 4,
 "nbformat_minor": 5
}
